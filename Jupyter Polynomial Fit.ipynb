{
 "cells": [
  {
   "cell_type": "markdown",
   "metadata": {},
   "source": [
    "# Weighted Fit to a Polynomial\n",
    "\n",
    "*June 9, 2021*\n",
    "\n",
    "In this script we will fit a polynomial to a set of experimental data.  The fit will be weighted by the measurement uncertainties.  This tutorial is very similar to the weighted linear fit tutorial, so let's get to it!\n",
    "\n",
    "Updated by Jordan Andrews on June 9, 2021 with the use of np.polynomial.Polynomial([a, b, c]).\n",
    "\n",
    "Enter the data.  Suppose that $y$ is the number of counts in some kind of counting experiment.  In that case, the error in $y$ is just the square root of the number of counts ($\\sqrt{y}$)."
   ]
  },
  {
   "cell_type": "code",
   "execution_count": 11,
   "metadata": {},
   "outputs": [],
   "source": [
    "import numpy as np\n",
    "X = np.array([1, 2, 3, 4, 5, 6])\n",
    "Y = np.array([6, 16, 27, 62, 95, 130])\n",
    "errY = np.sqrt(Y)"
   ]
  },
  {
   "cell_type": "markdown",
   "metadata": {},
   "source": [
    "Plot the data using *plt.errorbar(x,y,e)*."
   ]
  },
  {
   "cell_type": "code",
   "execution_count": 12,
   "metadata": {},
   "outputs": [
    {
     "data": {
      "image/png": "[encoded data removed]",
      "text/plain": [
       "<Figure size 432x288 with 1 Axes>"
      ]
     },
     "metadata": {
      "needs_background": "light"
     },
     "output_type": "display_data"
    }
   ],
   "source": [
    "import matplotlib.pyplot as plt\n",
    "plt.errorbar(X, Y, errY, fmt = 'ko', markersize = 5,\\\n",
    "                 linewidth = 1.8,\\\n",
    "                markeredgecolor = 'b',\\\n",
    "                capsize = 5,\\\n",
    "                markerfacecolor = (.49, 1, .63))\n",
    "plt.xlabel('X')\n",
    "plt.ylabel('Y');"
   ]
  },
  {
   "cell_type": "markdown",
   "metadata": {},
   "source": [
    "To do the actual fit, we will use the 'curve_fit()' function from, the *SciPy* module.  This way of fitting is very nice because we use it for all types of fit models (linear, polynomial, line-in-parameter fits, and nonlinear fit).  It is capable of doing both unweighted and weighted fits and it will return uncertainties in the fit parameters.\n",
    "\n",
    "The first step is to define a function for the model that we will fit our data to.  In this case, the model is a quadratic."
   ]
  },
  {
   "cell_type": "code",
   "execution_count": 13,
   "metadata": {},
   "outputs": [],
   "source": [
    "def quadFunc(x, a0, a1, a2):\n",
    "    y = a2*x**2 + a1*x + a0\n",
    "    return y"
   ]
  },
  {
   "cell_type": "markdown",
   "metadata": {},
   "source": [
    "Here is the actual command to execute the fit.  At a minimum, *curve_fit()* requires as inputs the function that defines the model, the $x$-data, and the $y$-data.  The statement below tells *curve_fit()* to return a list of the the best-fit parameters and the covariance matrix which will be used to determine the error in the fit parameters."
   ]
  },
  {
   "cell_type": "code",
   "execution_count": 14,
   "metadata": {},
   "outputs": [],
   "source": [
    "from scipy.optimize import curve_fit\n",
    "a_fit, cov = curve_fit(quadFunc, X, Y)"
   ]
  },
  {
   "cell_type": "markdown",
   "metadata": {},
   "source": [
    "Print the best-fit parameters."
   ]
  },
  {
   "cell_type": "code",
   "execution_count": 15,
   "metadata": {},
   "outputs": [
    {
     "name": "stdout",
     "output_type": "stream",
     "text": [
      "The best-fit parameters are:\n",
      " a2 = 3.803571428577548 \n",
      " a1 = -1.1392857142904127 \n",
      " a0 = 2.300000000002897\n"
     ]
    }
   ],
   "source": [
    "print('The best-fit parameters are:\\n a2 =', a_fit[2], '\\n',\\\n",
    "      'a1 =', a_fit[1], '\\n',\n",
    "      'a0 =', a_fit[0])"
   ]
  },
  {
   "cell_type": "markdown",
   "metadata": {},
   "source": [
    "The uncertainties of the best-fit parameters are determined from the square roots of the diagonal elements of the covariance matrix.  We can select the diagonal elements using (Note the use of the unicode character \\u0394 to print $\\Delta$):"
   ]
  },
  {
   "cell_type": "code",
   "execution_count": 16,
   "metadata": {},
   "outputs": [
    {
     "name": "stdout",
     "output_type": "stream",
     "text": [
      "The errors in the parameters are:\n",
      " Δa2 = 0.7749673564844516 \n",
      " Δa1 = 5.541603562820239 \n",
      " Δa0 = 8.470455002780565\n"
     ]
    }
   ],
   "source": [
    "print('The errors in the parameters are:\\n \\u0394a2 =', np.sqrt(np.diag(cov))[2],\\\n",
    "      '\\n', '\\u0394a1 =', np.sqrt(np.diag(cov))[1],\\\n",
    "      '\\n', '\\u0394a0 =', np.sqrt(np.diag(cov))[0])"
   ]
  },
  {
   "cell_type": "markdown",
   "metadata": {},
   "source": [
    "*NumPy* has a nice package for polynomials, called *polynomial*. There are six different polynomial types in this package. For our case, we are dealing with a simple power series. You can use the *Polynomial* constructor for this. y = np.polynomial.Polynomial([a, b, c]) results in $y = a + b\\,x + c\\,x^2$. \n",
    "\n",
    "Here's the best-fit fucntion obtained using *a_fit* from *curve_fit()* and the built in polynomial package of *NumPy*."
   ]
  },
  {
   "cell_type": "code",
   "execution_count": 17,
   "metadata": {},
   "outputs": [
    {
     "data": {
      "text/latex": [
       "$x \\mapsto \\text{2.300000000002897} - \\text{1.1392857142904127}\\,x + \\text{3.803571428577548}\\,x^{2}$"
      ],
      "text/plain": [
       "Polynomial([ 2.3       , -1.13928571,  3.80357143], domain=[-1,  1], window=[-1,  1])"
      ]
     },
     "execution_count": 17,
     "metadata": {},
     "output_type": "execute_result"
    }
   ],
   "source": [
    "fitFcn = np.polynomial.Polynomial(a_fit)\n",
    "fitFcn"
   ]
  },
  {
   "cell_type": "markdown",
   "metadata": {},
   "source": [
    "This gives us an easy way to plot the fit on top of the data."
   ]
  },
  {
   "cell_type": "code",
   "execution_count": 18,
   "metadata": {},
   "outputs": [
    {
     "data": {
      "image/png": "[encoded data removed]",
      "text/plain": [
       "<Figure size 432x288 with 1 Axes>"
      ]
     },
     "metadata": {
      "needs_background": "light"
     },
     "output_type": "display_data"
    }
   ],
   "source": [
    "#First reproduce the plot of the data that was generated above.\n",
    "plt.errorbar(X, Y, errY, fmt = 'ko', markersize = 5,\\\n",
    "                 linewidth = 1.8,\\\n",
    "                markeredgecolor = 'b',\\\n",
    "                capsize = 5,\\\n",
    "                markerfacecolor = (.49, 1, .63))\n",
    "plt.xlabel('X')\n",
    "plt.ylabel('Y')\n",
    "plt.title('Unweighted Quadratic Fit');\n",
    "\n",
    "# Next, add to that plot the best-fit curve.\n",
    "xx = np.arange(-1, 10, 0.1)\n",
    "plt.plot(xx, fitFcn(xx), 'k-')\n",
    "plt.axis((0, 7, 0, 150));"
   ]
  },
  {
   "cell_type": "markdown",
   "metadata": {},
   "source": [
    "All of this has produced an \"unweighted\" fit to the data.  To include weights, all we need to do is include another option in *curve_fit()*. Everything else is exactly the same!  The new option is *sigma* and it is simply a list of the errors in the $y$-values.  Note that many fitting routines require you to provide the actual weights as $1/\\sigma^2$.  That is not the case here.  You just have to provide the absolute $y$-uncertainties.\n",
    "\n",
    "Here's a block of code that does the fit, extracts the best fit function, the best-fit parameters, the uncertainties, and then plots the result."
   ]
  },
  {
   "cell_type": "code",
   "execution_count": 19,
   "metadata": {},
   "outputs": [
    {
     "name": "stdout",
     "output_type": "stream",
     "text": [
      "The best-fit parameters are:      \n",
      " a2 ± Δa2 = 4.287328095604868 ± 4.588378516498007 \n",
      " a1 ± Δa1 = -4.430769654410538 ± 4.135258989919286 \n",
      " a0 ± Δa0 = 6.2244252850495565 ± 0.6989651955680422\n"
     ]
    },
    {
     "data": {
      "image/png": "[encoded data removed]",
      "text/plain": [
       "<Figure size 432x288 with 1 Axes>"
      ]
     },
     "metadata": {
      "needs_background": "light"
     },
     "output_type": "display_data"
    }
   ],
   "source": [
    "a_fit, cov = curve_fit(quadFunc, X, Y, sigma = errY)\n",
    "\n",
    "# Extract the fit parameters and their uncertainties.\n",
    "print('The best-fit parameters are:\\\n",
    "      \\n a2 \\u00B1 \\u0394a2 =', a_fit[2], '\\u00B1', np.sqrt(np.diag(cov))[0],\\\n",
    "     '\\n a1 \\u00B1 \\u0394a1 =', a_fit[1], '\\u00B1', np.sqrt(np.diag(cov))[1],\\\n",
    "     '\\n a0 \\u00B1 \\u0394a0 =', a_fit[0], '\\u00B1', np.sqrt(np.diag(cov))[2])\n",
    "\n",
    "# Plot the data.\n",
    "plt.figure()\n",
    "plt.errorbar(X, Y, errY, fmt = 'ko', markersize = 5,\\\n",
    "                 linewidth = 1.8,\\\n",
    "                markeredgecolor = 'b',\\\n",
    "                markerfacecolor = 'r',\\\n",
    "                capsize = 5)\n",
    "plt.xlabel('X')\n",
    "plt.ylabel('Y')\n",
    "plt.title('Weighted Quadratic Fit')\n",
    "\n",
    "# Get the best-fit line.\n",
    "fitFcn = np.polynomial.Polynomial(a_fit)\n",
    "\n",
    "# Plot the best-fit line.\n",
    "xx = np.arange(-1, 10, 0.1)\n",
    "plt.plot(xx, fitFcn(xx), 'k-')\n",
    "plt.axis((0, 7, 0, 150));"
   ]
  }
 ],
 "metadata": {
  "kernelspec": {
   "display_name": "Python 3",
   "language": "python",
   "name": "python3"
  },
  "language_info": {
   "codemirror_mode": {
    "name": "ipython",
    "version": 3
   },
   "file_extension": ".py",
   "mimetype": "text/x-python",
   "name": "python",
   "nbconvert_exporter": "python",
   "pygments_lexer": "ipython3",
   "version": "3.8.6"
  }
 },
 "nbformat": 4,
 "nbformat_minor": 5
}
